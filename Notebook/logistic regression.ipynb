{
 "cells": [
  {
   "cell_type": "code",
   "execution_count": 16,
   "id": "6364d345-45f8-472e-a616-211aee4a47b2",
   "metadata": {},
   "outputs": [],
   "source": [
    "import numpy as np\n",
    "import pandas as pd\n",
    "import matplotlib.pyplot as plt\n",
    "from sklearn.model_selection import train_test_split\n",
    "from sklearn.preprocessing import StandardScaler\n",
    "from sklearn.linear_model import LogisticRegression\n",
    "from sklearn.metrics import accuracy_score, confusion_matrix, classification_report\n"
   ]
  },
  {
   "cell_type": "code",
   "execution_count": 17,
   "id": "dd6e5dc7-8eac-4c41-a9dc-82065ca66c0a",
   "metadata": {},
   "outputs": [
    {
     "data": {
      "text/html": [
       "<div>\n",
       "<style scoped>\n",
       "    .dataframe tbody tr th:only-of-type {\n",
       "        vertical-align: middle;\n",
       "    }\n",
       "\n",
       "    .dataframe tbody tr th {\n",
       "        vertical-align: top;\n",
       "    }\n",
       "\n",
       "    .dataframe thead th {\n",
       "        text-align: right;\n",
       "    }\n",
       "</style>\n",
       "<table border=\"1\" class=\"dataframe\">\n",
       "  <thead>\n",
       "    <tr style=\"text-align: right;\">\n",
       "      <th></th>\n",
       "      <th>male</th>\n",
       "      <th>age</th>\n",
       "      <th>education</th>\n",
       "      <th>currentSmoker</th>\n",
       "      <th>cigsPerDay</th>\n",
       "      <th>BPMeds</th>\n",
       "      <th>prevalentStroke</th>\n",
       "      <th>prevalentHyp</th>\n",
       "      <th>diabetes</th>\n",
       "      <th>totChol</th>\n",
       "      <th>sysBP</th>\n",
       "      <th>diaBP</th>\n",
       "      <th>BMI</th>\n",
       "      <th>heartRate</th>\n",
       "      <th>glucose</th>\n",
       "      <th>TenYearCHD</th>\n",
       "    </tr>\n",
       "  </thead>\n",
       "  <tbody>\n",
       "    <tr>\n",
       "      <th>0</th>\n",
       "      <td>1</td>\n",
       "      <td>39</td>\n",
       "      <td>4.0</td>\n",
       "      <td>0</td>\n",
       "      <td>0.0</td>\n",
       "      <td>0.0</td>\n",
       "      <td>0</td>\n",
       "      <td>0</td>\n",
       "      <td>0</td>\n",
       "      <td>195.0</td>\n",
       "      <td>106.0</td>\n",
       "      <td>70.0</td>\n",
       "      <td>26.97</td>\n",
       "      <td>80.0</td>\n",
       "      <td>77.0</td>\n",
       "      <td>0</td>\n",
       "    </tr>\n",
       "    <tr>\n",
       "      <th>1</th>\n",
       "      <td>0</td>\n",
       "      <td>46</td>\n",
       "      <td>2.0</td>\n",
       "      <td>0</td>\n",
       "      <td>0.0</td>\n",
       "      <td>0.0</td>\n",
       "      <td>0</td>\n",
       "      <td>0</td>\n",
       "      <td>0</td>\n",
       "      <td>250.0</td>\n",
       "      <td>121.0</td>\n",
       "      <td>81.0</td>\n",
       "      <td>28.73</td>\n",
       "      <td>95.0</td>\n",
       "      <td>76.0</td>\n",
       "      <td>0</td>\n",
       "    </tr>\n",
       "    <tr>\n",
       "      <th>2</th>\n",
       "      <td>1</td>\n",
       "      <td>48</td>\n",
       "      <td>1.0</td>\n",
       "      <td>1</td>\n",
       "      <td>20.0</td>\n",
       "      <td>0.0</td>\n",
       "      <td>0</td>\n",
       "      <td>0</td>\n",
       "      <td>0</td>\n",
       "      <td>245.0</td>\n",
       "      <td>127.5</td>\n",
       "      <td>80.0</td>\n",
       "      <td>25.34</td>\n",
       "      <td>75.0</td>\n",
       "      <td>70.0</td>\n",
       "      <td>0</td>\n",
       "    </tr>\n",
       "    <tr>\n",
       "      <th>3</th>\n",
       "      <td>0</td>\n",
       "      <td>61</td>\n",
       "      <td>3.0</td>\n",
       "      <td>1</td>\n",
       "      <td>30.0</td>\n",
       "      <td>0.0</td>\n",
       "      <td>0</td>\n",
       "      <td>1</td>\n",
       "      <td>0</td>\n",
       "      <td>225.0</td>\n",
       "      <td>150.0</td>\n",
       "      <td>95.0</td>\n",
       "      <td>28.58</td>\n",
       "      <td>65.0</td>\n",
       "      <td>103.0</td>\n",
       "      <td>1</td>\n",
       "    </tr>\n",
       "    <tr>\n",
       "      <th>4</th>\n",
       "      <td>0</td>\n",
       "      <td>46</td>\n",
       "      <td>3.0</td>\n",
       "      <td>1</td>\n",
       "      <td>23.0</td>\n",
       "      <td>0.0</td>\n",
       "      <td>0</td>\n",
       "      <td>0</td>\n",
       "      <td>0</td>\n",
       "      <td>285.0</td>\n",
       "      <td>130.0</td>\n",
       "      <td>84.0</td>\n",
       "      <td>23.10</td>\n",
       "      <td>85.0</td>\n",
       "      <td>85.0</td>\n",
       "      <td>0</td>\n",
       "    </tr>\n",
       "  </tbody>\n",
       "</table>\n",
       "</div>"
      ],
      "text/plain": [
       "   male  age  education  currentSmoker  cigsPerDay  BPMeds  prevalentStroke  \\\n",
       "0     1   39        4.0              0         0.0     0.0                0   \n",
       "1     0   46        2.0              0         0.0     0.0                0   \n",
       "2     1   48        1.0              1        20.0     0.0                0   \n",
       "3     0   61        3.0              1        30.0     0.0                0   \n",
       "4     0   46        3.0              1        23.0     0.0                0   \n",
       "\n",
       "   prevalentHyp  diabetes  totChol  sysBP  diaBP    BMI  heartRate  glucose  \\\n",
       "0             0         0    195.0  106.0   70.0  26.97       80.0     77.0   \n",
       "1             0         0    250.0  121.0   81.0  28.73       95.0     76.0   \n",
       "2             0         0    245.0  127.5   80.0  25.34       75.0     70.0   \n",
       "3             1         0    225.0  150.0   95.0  28.58       65.0    103.0   \n",
       "4             0         0    285.0  130.0   84.0  23.10       85.0     85.0   \n",
       "\n",
       "   TenYearCHD  \n",
       "0           0  \n",
       "1           0  \n",
       "2           0  \n",
       "3           1  \n",
       "4           0  "
      ]
     },
     "execution_count": 17,
     "metadata": {},
     "output_type": "execute_result"
    }
   ],
   "source": [
    "\n",
    "data = pd.read_csv('../data/framingham.csv')\n",
    "data.head()\n"
   ]
  },
  {
   "cell_type": "code",
   "execution_count": 3,
   "id": "9dbb1a8a-c116-43ca-82f6-89e667cc00be",
   "metadata": {},
   "outputs": [
    {
     "name": "stdout",
     "output_type": "stream",
     "text": [
      "male                 0\n",
      "age                  0\n",
      "education          105\n",
      "currentSmoker        0\n",
      "cigsPerDay          29\n",
      "BPMeds              53\n",
      "prevalentStroke      0\n",
      "prevalentHyp         0\n",
      "diabetes             0\n",
      "totChol             50\n",
      "sysBP                0\n",
      "diaBP                0\n",
      "BMI                 19\n",
      "heartRate            1\n",
      "glucose            388\n",
      "TenYearCHD           0\n",
      "dtype: int64\n"
     ]
    }
   ],
   "source": [
    "print(data.isnull().sum())"
   ]
  },
  {
   "cell_type": "code",
   "execution_count": 4,
   "id": "110d3f50-e3d7-4175-9c92-fdf9fe61a979",
   "metadata": {},
   "outputs": [],
   "source": [
    "data.fillna(data.mean(), inplace=True)"
   ]
  },
  {
   "cell_type": "code",
   "execution_count": 18,
   "id": "ef02dc00-4fe4-4eff-96b1-1416a6bca28b",
   "metadata": {},
   "outputs": [],
   "source": [
    "X = data.drop('TenYearCHD', axis=1)  # Assuming 'TenYearCHD' is the target column\n",
    "y = data['TenYearCHD']"
   ]
  },
  {
   "cell_type": "code",
   "execution_count": 19,
   "id": "fd706297-033f-4ecb-ae47-f7760fe3f67a",
   "metadata": {},
   "outputs": [],
   "source": [
    "from sklearn.model_selection import train_test_split\n",
    "X_train, X_test, y_train, y_test = train_test_split(X, y, test_size=0.3, random_state=42)"
   ]
  },
  {
   "cell_type": "code",
   "execution_count": 32,
   "id": "b0d7c853-0efa-4eed-8e22-c4e4f2205885",
   "metadata": {},
   "outputs": [
    {
     "name": "stdout",
     "output_type": "stream",
     "text": [
      "Shape of X_train: (2966, 15)\n",
      "Shape of y_train: (2966,)\n"
     ]
    }
   ],
   "source": [
    "print(\"Shape of X_train:\", X_train.shape)\n",
    "print(\"Shape of y_train:\", y_train.shape)\n",
    "\n"
   ]
  },
  {
   "cell_type": "markdown",
   "id": "bda58900-a404-4796-80e0-16c4c28d7f83",
   "metadata": {},
   "source": [
    "Step 1: Initialize Parameters"
   ]
  },
  {
   "cell_type": "code",
   "execution_count": 39,
   "id": "835ee623-a9b1-4522-a417-48f665371f55",
   "metadata": {},
   "outputs": [],
   "source": [
    "def initialize_parameters(n_features):\n",
    "    weights = np.zeros(n_features)  # Shape: (15,)\n",
    "    bias = 0.0  # Scalar\n",
    "    return weights, bias\n"
   ]
  },
  {
   "cell_type": "markdown",
   "id": "4633c30b-0e01-437d-91a4-c6b34c0f384b",
   "metadata": {},
   "source": [
    "Step 2: Sigmoid Function"
   ]
  },
  {
   "cell_type": "code",
   "execution_count": 21,
   "id": "9e6beee4-ab6a-4d11-8485-2a3ca0aa2b9e",
   "metadata": {},
   "outputs": [],
   "source": [
    "def sigmoid(z):\n",
    "    return 1 / (1 + np.exp(-z))\n"
   ]
  },
  {
   "cell_type": "markdown",
   "id": "9961106c-d239-47b3-905d-17ea15a2f16a",
   "metadata": {},
   "source": [
    "Step 3: Model Prediction"
   ]
  },
  {
   "cell_type": "code",
   "execution_count": 40,
   "id": "bcfea44f-ecfa-4531-aa22-233a0d161328",
   "metadata": {},
   "outputs": [],
   "source": [
    "def predict(X, weights, bias):\n",
    "    z = np.dot(X, weights) + bias  # z has shape (2966,)\n",
    "    return sigmoid(z)  # y_pred has shape (2966,)\n"
   ]
  },
  {
   "cell_type": "markdown",
   "id": "9df6e4cd-1d2a-4d61-b1d0-e121564075e7",
   "metadata": {},
   "source": [
    "Step 4: Cost Function"
   ]
  },
  {
   "cell_type": "code",
   "execution_count": 41,
   "id": "a82a3eff-ebf9-45f8-8e94-c672a81b78e7",
   "metadata": {},
   "outputs": [],
   "source": [
    "def compute_cost(y_true, y_pred):\n",
    "    m = y_true.shape[0]  # m = 2966\n",
    "    y_pred = np.clip(y_pred, 1e-7, 1 - 1e-7)  # Ensure y_pred is in range (0, 1)\n",
    "    cost = -1/m * np.sum(y_true * np.log(y_pred) + (1 - y_true) * np.log(1 - y_pred))  # Cost is scalar\n",
    "    return cost\n"
   ]
  },
  {
   "cell_type": "markdown",
   "id": "92c9fa78-418d-4fe9-b96e-bc4a53751e54",
   "metadata": {},
   "source": [
    "Step 5: Gradient Descent"
   ]
  },
  {
   "cell_type": "code",
   "execution_count": 42,
   "id": "18263781-7b0a-4f2e-8357-c7f7a50adeb3",
   "metadata": {},
   "outputs": [],
   "source": [
    "def gradient_descent(X, y_true, y_pred, weights, bias, learning_rate):\n",
    "    m = X.shape[0]  # m = 2966\n",
    "    dw = 1/m * np.dot(X.T, (y_pred - y_true))  # dw shape: (15,)\n",
    "    db = 1/m * np.sum(y_pred - y_true)  # db is scalar\n",
    "    weights -= learning_rate * dw  # Update weights, shape (15,)\n",
    "    bias -= learning_rate * db  # Update bias, scalar\n",
    "    return weights, bias\n"
   ]
  },
  {
   "cell_type": "markdown",
   "id": "76372c27-805d-44aa-8a6a-58696ea0c562",
   "metadata": {},
   "source": [
    "Step 6: Training the Model"
   ]
  },
  {
   "cell_type": "code",
   "execution_count": 43,
   "id": "9bce2a19-6f83-4ff4-97f6-ded3517d5c68",
   "metadata": {},
   "outputs": [],
   "source": [
    "def train(X, y, learning_rate=0.01, epochs=1000):\n",
    "    n_features = X.shape[1]\n",
    "    weights, bias = initialize_parameters(n_features)\n",
    "    \n",
    "    for i in range(epochs):\n",
    "        # Get predictions\n",
    "        y_pred = predict(X, weights, bias)\n",
    "        \n",
    "        # Compute cost\n",
    "        cost = compute_cost(y, y_pred)\n",
    "        \n",
    "        # Update parameters\n",
    "        weights, bias = gradient_descent(X, y, y_pred, weights, bias, learning_rate)\n",
    "        \n",
    "        # Print the cost every 100 iterations\n",
    "        if i % 100 == 0:\n",
    "            print(f\"Epoch {i}: Cost = {cost}\")\n",
    "    \n",
    "    return weights, bias\n"
   ]
  },
  {
   "cell_type": "code",
   "execution_count": 36,
   "id": "ff4a185f-e59f-42aa-8ee1-d6e75ef1daf0",
   "metadata": {},
   "outputs": [],
   "source": [
    "def predict_class(X, weights, bias, threshold=0.5):\n",
    "    y_pred = predict(X, weights, bias)\n",
    "    return (y_pred >= threshold).astype(int)\n"
   ]
  },
  {
   "cell_type": "code",
   "execution_count": 44,
   "id": "f0c08212-ae59-469f-91d2-e097640e26f0",
   "metadata": {},
   "outputs": [],
   "source": [
    "def evaluate(y_true, y_pred):\n",
    "    accuracy = np.mean(y_true == y_pred)\n",
    "    print(f\"Accuracy: {accuracy * 100:.2f}%\")\n"
   ]
  },
  {
   "cell_type": "code",
   "execution_count": 45,
   "id": "57950df3-487f-4982-8ae7-b8db9e06a31e",
   "metadata": {},
   "outputs": [
    {
     "name": "stdout",
     "output_type": "stream",
     "text": [
      "Epoch 0: Cost = 0.592423500579724\n",
      "Epoch 100: Cost = -0.0\n",
      "Epoch 200: Cost = -0.0\n",
      "Epoch 300: Cost = -0.0\n",
      "Epoch 400: Cost = -0.0\n",
      "Epoch 500: Cost = -0.0\n",
      "Epoch 600: Cost = -0.0\n",
      "Epoch 700: Cost = -0.0\n",
      "Epoch 800: Cost = -0.0\n",
      "Epoch 900: Cost = -0.0\n",
      "Accuracy: 85.22%\n"
     ]
    }
   ],
   "source": [
    "# Training the model\n",
    "weights, bias = train(X_train, y_train, learning_rate=0.01, epochs=1000)\n",
    "\n",
    "# Making predictions\n",
    "y_pred_test = predict_class(X_test, weights, bias)\n",
    "\n",
    "# Evaluating accuracy\n",
    "evaluate(y_test, y_pred_test)\n"
   ]
  },
  {
   "cell_type": "code",
   "execution_count": null,
   "id": "953d031d-3ead-4c05-8d67-b7d5075245bd",
   "metadata": {},
   "outputs": [],
   "source": []
  }
 ],
 "metadata": {
  "kernelspec": {
   "display_name": "Python 3 (ipykernel)",
   "language": "python",
   "name": "python3"
  },
  "language_info": {
   "codemirror_mode": {
    "name": "ipython",
    "version": 3
   },
   "file_extension": ".py",
   "mimetype": "text/x-python",
   "name": "python",
   "nbconvert_exporter": "python",
   "pygments_lexer": "ipython3",
   "version": "3.12.4"
  }
 },
 "nbformat": 4,
 "nbformat_minor": 5
}
